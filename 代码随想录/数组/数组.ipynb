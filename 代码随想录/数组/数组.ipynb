{
 "cells": [
  {
   "cell_type": "code",
   "execution_count": 2,
   "metadata": {},
   "outputs": [],
   "source": [
    "#数组理论基础"
   ]
  },
  {
   "cell_type": "markdown",
   "metadata": {},
   "source": [
    "# 数组理论基础\n",
    "\n",
    "数组是存放在连续内存空间上的相同类型数据的集合。\n",
    "\n",
    "数组可以方便的通过下标索引的方式获取到下标对应的数据。\n",
    "\n",
    "举一个字符数组的例子，如图所示：\n",
    "\n",
    "![Example Image](算法通关数组.png)"
   ]
  },
  {
   "cell_type": "markdown",
   "metadata": {},
   "source": [
    "# 二分查找"
   ]
  },
  {
   "cell_type": "markdown",
   "metadata": {},
   "source": [
    "704. Binary Search\n",
    "\n",
    "Given an array of integers nums which is sorted in ascending order, and an integer target, write a function to search target in nums. If target exists, then return its index. Otherwise, return -1.\n",
    "\n",
    "You must write an algorithm with O(log n) runtime complexity.\n",
    "\n",
    " \n",
    "\n",
    "**Example 1:**\n",
    "\n",
    "Input: nums = [-1,0,3,5,9,12], target = 9\n",
    "Output: 4\n",
    "Explanation: 9 exists in nums and its index is 4\n",
    "\n",
    "**Example 2:**\n",
    "\n",
    "Input: nums = [-1,0,3,5,9,12], target = 2\n",
    "Output: -1\n",
    "Explanation: 2 does not exist in nums so return -1\n",
    " \n",
    "\n",
    "Constraints:\n",
    "\n",
    "- 1 <= nums.length <= 104\n",
    "- -104 < nums[i], target < 104\n",
    "- All the integers in nums are unique.\n",
    "- nums is sorted in ascending order."
   ]
  },
  {
   "cell_type": "code",
   "execution_count": 4,
   "metadata": {},
   "outputs": [
    {
     "name": "stdout",
     "output_type": "stream",
     "text": [
      "All tests passed.\n"
     ]
    }
   ],
   "source": [
    "from typing import List\n",
    "\n",
    "class Solution:\n",
    "    def search(self, nums: List[int], target: int) -> int:\n",
    "        L = 0\n",
    "        R = len(nums) - 1\n",
    "\n",
    "        while L <= R:\n",
    "            M = L + (R - L) // 2\n",
    "            if nums[M] < target:\n",
    "                L = M + 1\n",
    "            elif nums[M] > target:\n",
    "                R = M - 1\n",
    "            else:\n",
    "                return M\n",
    "        return -1\n",
    "\n",
    "def test_binary_search():\n",
    "    solution = Solution()\n",
    "    \n",
    "    # Test case 1\n",
    "    assert solution.search([-1, 0, 3, 5, 9, 12], 9) == 4\n",
    "    \n",
    "    # Test case 2\n",
    "    assert solution.search([-1, 0, 3, 5, 9, 12], 2) == -1\n",
    "    \n",
    "    # Edge case: Empty list\n",
    "    assert solution.search([], 1) == -1\n",
    "    \n",
    "    # Edge case: Single element, target found\n",
    "    assert solution.search([1], 1) == 0\n",
    "    \n",
    "    # Edge case: Single element, target not found\n",
    "    assert solution.search([1], 2) == -1\n",
    "    \n",
    "    # Edge case: Target at the start\n",
    "    assert solution.search([1, 2, 3, 4, 5], 1) == 0\n",
    "    \n",
    "    # Edge case: Target at the end\n",
    "    assert solution.search([1, 2, 3, 4, 5], 5) == 4\n",
    "    \n",
    "    # Large input case\n",
    "    large_input = list(range(1000000))\n",
    "    assert solution.search(large_input, 999999) == 999999\n",
    "\n",
    "test_binary_search()\n",
    "print(\"All tests passed.\")\n"
   ]
  },
  {
   "cell_type": "markdown",
   "metadata": {},
   "source": [
    "第一道leetcode！！\n",
    "![Example Image](s1.png)"
   ]
  },
  {
   "cell_type": "code",
   "execution_count": null,
   "metadata": {},
   "outputs": [],
   "source": []
  }
 ],
 "metadata": {
  "kernelspec": {
   "display_name": "Python 3",
   "language": "python",
   "name": "python3"
  },
  "language_info": {
   "codemirror_mode": {
    "name": "ipython",
    "version": 3
   },
   "file_extension": ".py",
   "mimetype": "text/x-python",
   "name": "python",
   "nbconvert_exporter": "python",
   "pygments_lexer": "ipython3",
   "version": "3.11.9"
  }
 },
 "nbformat": 4,
 "nbformat_minor": 2
}
