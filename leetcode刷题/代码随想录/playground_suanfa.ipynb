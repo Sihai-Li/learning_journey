{
 "cells": [
  {
   "cell_type": "markdown",
   "metadata": {},
   "source": [
    "## Baby version Binary search - page 9"
   ]
  },
  {
   "cell_type": "code",
   "execution_count": 1,
   "metadata": {},
   "outputs": [
    {
     "ename": "SyntaxError",
     "evalue": "invalid syntax (4016937345.py, line 18)",
     "output_type": "error",
     "traceback": [
      "\u001b[0;36m  Cell \u001b[0;32mIn[1], line 18\u001b[0;36m\u001b[0m\n\u001b[0;31m    print binary_search (my_list, 3)\u001b[0m\n\u001b[0m          ^\u001b[0m\n\u001b[0;31mSyntaxError\u001b[0m\u001b[0;31m:\u001b[0m invalid syntax\n"
     ]
    }
   ],
   "source": [
    "## code from the book???? seems sth wrong there\n",
    "def binary_search(list,item):\n",
    "    low = 0\n",
    "    high = len(list) - 1\n",
    "\n",
    "    while low <= high:\n",
    "        mid = (low + high)\n",
    "        guess = list[mid]\n",
    "\n",
    "        if guess == item:\n",
    "            return mid\n",
    "        if guess > item:\n",
    "            high = mid -1\n",
    "        else:\n",
    "            low = mid - 1\n",
    "    return None\n",
    "\n",
    "my_list = [1,3,5,7,9]\n",
    "print binary_search (my_list, 3)\n",
    "\n"
   ]
  },
  {
   "cell_type": "code",
   "execution_count": 1,
   "metadata": {},
   "outputs": [
    {
     "name": "stdout",
     "output_type": "stream",
     "text": [
      "1\n"
     ]
    }
   ],
   "source": [
    "## binary search implementation\n",
    "def binary_search(list, item):\n",
    "    low = 0\n",
    "    high = len(list) - 1\n",
    "\n",
    "    while low <= high:\n",
    "        mid = (low + high) // 2  # Need integer division here\n",
    "        guess = list[mid]\n",
    "\n",
    "        if guess == item:\n",
    "            return mid\n",
    "        if guess < item:  # Adjust the conditions here\n",
    "            low = mid + 1\n",
    "        else:\n",
    "            high = mid - 1\n",
    "\n",
    "    return None\n",
    "\n",
    "my_list = [1, 3, 5, 7, 9]\n",
    "print(binary_search(my_list, 3))\n",
    "\n"
   ]
  },
  {
   "cell_type": "markdown",
   "metadata": {},
   "source": [
    "## 选择排序 page 28"
   ]
  },
  {
   "cell_type": "code",
   "execution_count": 6,
   "metadata": {},
   "outputs": [
    {
     "name": "stdout",
     "output_type": "stream",
     "text": [
      "[2, 3, 5, 6, 10]\n"
     ]
    }
   ],
   "source": [
    "def findSmallest(arr):\n",
    "    smallest = arr[0]\n",
    "    smallest_index = 0\n",
    "    for i in range(1,len(arr)):\n",
    "        if arr[i] < smallest:\n",
    "            smallest = arr[i]  \n",
    "            smallest_index = i  # Corrected the index assignment\n",
    "    return smallest_index\n",
    "\n",
    "def selectionSort(arr): \n",
    "    newArr = []\n",
    "    for i in range(len(arr)):\n",
    "        smallest = findSmallest(arr)\n",
    "        newArr.append(arr.pop(smallest))\n",
    "    return newArr\n",
    "\n",
    "print(selectionSort([5, 3, 6, 2, 10]))\n"
   ]
  },
  {
   "cell_type": "markdown",
   "metadata": {},
   "source": [
    "NOTES: The pop() method in Python returns the element that has been removed from the list. So, arr.pop(smallest) will return the element at the index smallest from the list arr.\n",
    "\n",
    "For example:\n",
    "```\n",
    "arr = [1, 2, 3, 4, 5]\n",
    "removed_element = arr.pop(2)  # Removes element at index 2 (which is 3)\n",
    "print(removed_element)  # Output will be 3\n",
    "print(arr)  # Output will be [1, 2, 4, 5] (element 3 is removed from the list)\n"
   ]
  },
  {
   "cell_type": "markdown",
   "metadata": {},
   "source": [
    "## 快速排序 page46"
   ]
  },
  {
   "cell_type": "code",
   "execution_count": 1,
   "metadata": {},
   "outputs": [
    {
     "name": "stdout",
     "output_type": "stream",
     "text": [
      "5\n"
     ]
    }
   ],
   "source": [
    "# 4.2 编写一个递归函数来计算列表包含的元素数\n",
    "\n",
    "def count(arr):\n",
    "    if arr == []:\n",
    "        return 0\n",
    "    else:\n",
    "        return 1+ count(arr[1:])\n",
    "\n",
    "example = [1,2,3,4,5]\n",
    "print(count(example))"
   ]
  },
  {
   "cell_type": "code",
   "execution_count": 2,
   "metadata": {},
   "outputs": [
    {
     "name": "stdout",
     "output_type": "stream",
     "text": [
      "7\n"
     ]
    }
   ],
   "source": [
    "# 4.3 找出列表中最大的数字\n",
    "\n",
    "def max(arr):\n",
    "    if len(arr) == 2:\n",
    "        if arr[0]> arr[1]:\n",
    "            return arr[0]\n",
    "        return arr[1]\n",
    "    submax = max(arr[1:])\n",
    "\n",
    "    return arr[0] if arr[0] > submax else submax\n",
    "\n",
    "example = [1,2,3,4,5,6,7]\n",
    "print(max(example))"
   ]
  }
 ],
 "metadata": {
  "kernelspec": {
   "display_name": "Python 3",
   "language": "python",
   "name": "python3"
  },
  "language_info": {
   "codemirror_mode": {
    "name": "ipython",
    "version": 3
   },
   "file_extension": ".py",
   "mimetype": "text/x-python",
   "name": "python",
   "nbconvert_exporter": "python",
   "pygments_lexer": "ipython3",
   "version": "3.12.0"
  }
 },
 "nbformat": 4,
 "nbformat_minor": 2
}
